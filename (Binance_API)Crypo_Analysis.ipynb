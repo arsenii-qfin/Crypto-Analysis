{
 "cells": [
  {
   "cell_type": "code",
   "execution_count": 2,
   "id": "19cf976b-3390-4eb6-b8ec-b57bf3d9f509",
   "metadata": {},
   "outputs": [],
   "source": [
    "import requests\n",
    "import pandas as pd\n",
    "from datetime import datetime, timedelta"
   ]
  },
  {
   "cell_type": "markdown",
   "id": "e169773e-191d-4738-83f0-181917be4086",
   "metadata": {},
   "source": [
    "### Binance API Base URL + Parameters:\n",
    "#### Format: OHLC; oldest to newest \n",
    "\n",
    "https://api.binance.us/api/v3/klines \"?\"\n",
    "\n",
    "* symbol: Trading pair (e.g., BTCUSDT).\n",
    "* interval: Time interval (e.g., 1m, 5m, 15m, 1h, 12h, 1d).\n",
    "* startTime: Start time in milliseconds (UNIX timestamp × 1000).\n",
    "* endTime: End time in milliseconds (UNIX timestamp × 1000).\n",
    "* limit: Number of candles to fetch (max 500).\n",
    "\n",
    "https://api.binance.us/api/v3/klines?symbol=BTCUSDT&interval=12h&startTime=1717449600000&endTime=1717536000000\n",
    "\n",
    "ps. \"Klines\" refers to candlestick (OHLC) data\n",
    "ps. the ? separates the base URL from the query \n",
    "ps. Use the timestamp of the day at 00:00 as the startTime and timestamp of the next day at 00:00 as the endTime to ensure the last day is complete.\n",
    "ps. use https://www.epochconverter.com/ to covert time to UNIX\n",
    "ps. each kline datapoint has: Open time (timestamp), Open price, High price, Low price, Close price, Volume, Close time (timestamp), Quote asset volume, Number of trades, Taker buy base asset volume, Taker buy quote asset volume, Ignore (placeholder)"
   ]
  },
  {
   "cell_type": "code",
   "execution_count": 4,
   "id": "941c5ce3-e0f2-4807-8455-334d727bb228",
   "metadata": {},
   "outputs": [],
   "source": [
    "def fetch_binance_data(symbol, interval, startTime, endTime):\n",
    "    base_url = \"https://api.binance.us/api/v3/klines\" #the base url and the input parameters below\n",
    "    params = {\n",
    "        \"symbol\": symbol,\n",
    "        \"interval\": interval,\n",
    "        \"startTime\": startTime,\n",
    "        \"endTime\": endTime,\n",
    "    }\n",
    "    response = requests.get(base_url, params=params) #fetch the data via requests library\n",
    "    data = response.json()\n",
    "    return pd.DataFrame({ # create a dataframe with the human date and corresponding closing price\n",
    "        \"time\": [datetime.fromtimestamp(int(entry[0]) / 1000) for entry in data],\n",
    "        \"close\": [float(entry[4]) for entry in data]\n",
    "    })"
   ]
  },
  {
   "cell_type": "markdown",
   "id": "024e0471-b9bf-4105-a4be-672fdbad1553",
   "metadata": {},
   "source": [
    "### Analyzing Data"
   ]
  },
  {
   "cell_type": "code",
   "execution_count": 6,
   "id": "a763de07-7672-4dad-9c60-b7119f9432bc",
   "metadata": {},
   "outputs": [],
   "source": [
    "def analyze_data(master_data, test_data):\n",
    "    up_success = 0\n",
    "    down_success = 0\n",
    "    up_total = 0\n",
    "    down_total = 0\n",
    "\n",
    "    for i in range(0, len(master_data), 2): # make sure we don't go over the amount of data we have\n",
    "        if i + 1 >= len(master_data):\n",
    "            break\n",
    "\n",
    "        t0_master_price = master_data.iloc[i]['close'] # calcuate the daily percent change\n",
    "        t1_master_price = master_data.iloc[i + 1]['close']\n",
    "        master_change = ((t1_master_price - t0_master_price) / t0_master_price) * 100\n",
    "\n",
    "        if abs(master_change) > 1:  #filter the changes of over 1% \n",
    "            corresponding_day = i // 2\n",
    "            if corresponding_day + 1 >= len(test_data):\n",
    "                continue\n",
    "\n",
    "            t0_test_price = test_data.iloc[corresponding_day]['close'] # compare primary token's t_0 to secondary's t_1\n",
    "            t1_test_price = test_data.iloc[corresponding_day + 1]['close']\n",
    "\n",
    "            if master_change > 1: # main logic\n",
    "                up_total += 1\n",
    "                if t1_test_price > t0_test_price:\n",
    "                    up_success += 1\n",
    "            elif master_change < -1:\n",
    "                down_total += 1\n",
    "                if t1_test_price < t0_test_price:\n",
    "                    down_success += 1\n",
    "\n",
    "    up_success_rate = (up_success / up_total * 100) if up_total > 0 else 0 # calculate success rates\n",
    "    down_success_rate = (down_success / down_total * 100) if down_total > 0 else 0\n",
    "    \n",
    "    print(\"Primary moved +1%: \" + str(up_total) + \" times\") # print the results of the testing\n",
    "    print(\"Primary moved -1%: \" + str(down_total) + \" times\")\n",
    "    print(\"Success for up movements: \" + str(up_success) + \" times\")\n",
    "    print(\"Success for down movements: \" + str(down_success) + \" times\")\n",
    "    \n",
    "    return up_success_rate, down_success_rate"
   ]
  },
  {
   "cell_type": "markdown",
   "id": "3c4d9912-4680-44ba-a5d0-251547a3ba73",
   "metadata": {},
   "source": [
    "### User Input..."
   ]
  },
  {
   "cell_type": "code",
   "execution_count": 8,
   "id": "bae574dc-883a-4bd5-835d-4151947247e4",
   "metadata": {},
   "outputs": [],
   "source": [
    "master_data = fetch_binance_data(\"BTCUSDT\", \"12h\", 1692811488000, 1713893088000) # watch out for the syntax\n",
    "test_data = fetch_binance_data(\"ETHUSDT\", \"12h\", 1692811488000, 1713893088000)"
   ]
  },
  {
   "cell_type": "code",
   "execution_count": 9,
   "id": "4b19e2c9-2a8b-4b0b-b868-5db9699973aa",
   "metadata": {},
   "outputs": [
    {
     "name": "stdout",
     "output_type": "stream",
     "text": [
      "Primary moved +1%: 54 times\n",
      "Primary moved -1%: 47 times\n",
      "Success for up movements: 25 times\n",
      "Success for down movements: 25 times\n"
     ]
    }
   ],
   "source": [
    "up_success_rate, down_success_rate = analyze_data(master_data, test_data)"
   ]
  },
  {
   "cell_type": "code",
   "execution_count": 10,
   "id": "b4bc2e85-d268-40ea-b233-cc828f212208",
   "metadata": {},
   "outputs": [
    {
     "name": "stdout",
     "output_type": "stream",
     "text": [
      "Success rate for primary up and secondary up: 46.30%\n",
      "Success rate for primary down and secondary down: 53.19%\n"
     ]
    }
   ],
   "source": [
    "print(f\"Success rate for primary up and secondary up: {up_success_rate:.2f}%\")\n",
    "print(f\"Success rate for primary down and secondary down: {down_success_rate:.2f}%\")"
   ]
  },
  {
   "cell_type": "markdown",
   "id": "a7a800c5-b635-46c5-870c-b9b9f1d8c28a",
   "metadata": {},
   "source": [
    "### Human date to UNIX x1000 for the user input"
   ]
  },
  {
   "cell_type": "code",
   "execution_count": 12,
   "id": "b364373d-293f-4334-a0d8-071f7608c6e1",
   "metadata": {},
   "outputs": [
    {
     "name": "stdout",
     "output_type": "stream",
     "text": [
      "The UNIX timestamp for 2024-12-10 20:00:00 is 1733878800000 milliseconds.\n"
     ]
    }
   ],
   "source": [
    "human_start_date = \"2024-12-10 20:00:00\"\n",
    "unix_start_date_ms = int(datetime.strptime(human_start_date, \"%Y-%m-%d %H:%M:%S\").timestamp() * 1000)\n",
    "print(f\"The UNIX timestamp for {human_start_date} is {unix_start_date_ms} milliseconds.\")"
   ]
  },
  {
   "cell_type": "code",
   "execution_count": 13,
   "id": "9ed4f40e-112c-4b15-a68f-2c482cde47bc",
   "metadata": {},
   "outputs": [
    {
     "data": {
      "text/html": [
       "<div>\n",
       "<style scoped>\n",
       "    .dataframe tbody tr th:only-of-type {\n",
       "        vertical-align: middle;\n",
       "    }\n",
       "\n",
       "    .dataframe tbody tr th {\n",
       "        vertical-align: top;\n",
       "    }\n",
       "\n",
       "    .dataframe thead th {\n",
       "        text-align: right;\n",
       "    }\n",
       "</style>\n",
       "<table border=\"1\" class=\"dataframe\">\n",
       "  <thead>\n",
       "    <tr style=\"text-align: right;\">\n",
       "      <th></th>\n",
       "      <th>time</th>\n",
       "      <th>close</th>\n",
       "    </tr>\n",
       "  </thead>\n",
       "  <tbody>\n",
       "    <tr>\n",
       "      <th>0</th>\n",
       "      <td>2023-08-23 20:00:00</td>\n",
       "      <td>26447.56</td>\n",
       "    </tr>\n",
       "    <tr>\n",
       "      <th>1</th>\n",
       "      <td>2023-08-24 08:00:00</td>\n",
       "      <td>26175.01</td>\n",
       "    </tr>\n",
       "    <tr>\n",
       "      <th>2</th>\n",
       "      <td>2023-08-24 20:00:00</td>\n",
       "      <td>26106.12</td>\n",
       "    </tr>\n",
       "    <tr>\n",
       "      <th>3</th>\n",
       "      <td>2023-08-25 08:00:00</td>\n",
       "      <td>26064.10</td>\n",
       "    </tr>\n",
       "    <tr>\n",
       "      <th>4</th>\n",
       "      <td>2023-08-25 20:00:00</td>\n",
       "      <td>26054.53</td>\n",
       "    </tr>\n",
       "    <tr>\n",
       "      <th>...</th>\n",
       "      <td>...</td>\n",
       "      <td>...</td>\n",
       "    </tr>\n",
       "    <tr>\n",
       "      <th>483</th>\n",
       "      <td>2024-04-21 08:00:00</td>\n",
       "      <td>64957.64</td>\n",
       "    </tr>\n",
       "    <tr>\n",
       "      <th>484</th>\n",
       "      <td>2024-04-21 20:00:00</td>\n",
       "      <td>65895.19</td>\n",
       "    </tr>\n",
       "    <tr>\n",
       "      <th>485</th>\n",
       "      <td>2024-04-22 08:00:00</td>\n",
       "      <td>66850.00</td>\n",
       "    </tr>\n",
       "    <tr>\n",
       "      <th>486</th>\n",
       "      <td>2024-04-22 20:00:00</td>\n",
       "      <td>66013.84</td>\n",
       "    </tr>\n",
       "    <tr>\n",
       "      <th>487</th>\n",
       "      <td>2024-04-23 08:00:00</td>\n",
       "      <td>66399.99</td>\n",
       "    </tr>\n",
       "  </tbody>\n",
       "</table>\n",
       "<p>488 rows × 2 columns</p>\n",
       "</div>"
      ],
      "text/plain": [
       "                   time     close\n",
       "0   2023-08-23 20:00:00  26447.56\n",
       "1   2023-08-24 08:00:00  26175.01\n",
       "2   2023-08-24 20:00:00  26106.12\n",
       "3   2023-08-25 08:00:00  26064.10\n",
       "4   2023-08-25 20:00:00  26054.53\n",
       "..                  ...       ...\n",
       "483 2024-04-21 08:00:00  64957.64\n",
       "484 2024-04-21 20:00:00  65895.19\n",
       "485 2024-04-22 08:00:00  66850.00\n",
       "486 2024-04-22 20:00:00  66013.84\n",
       "487 2024-04-23 08:00:00  66399.99\n",
       "\n",
       "[488 rows x 2 columns]"
      ]
     },
     "execution_count": 13,
     "metadata": {},
     "output_type": "execute_result"
    }
   ],
   "source": [
    "master_data"
   ]
  },
  {
   "cell_type": "code",
   "execution_count": 14,
   "id": "7f3ccf87-8f0b-479b-af6d-8f21c92c2329",
   "metadata": {},
   "outputs": [
    {
     "data": {
      "text/html": [
       "<div>\n",
       "<style scoped>\n",
       "    .dataframe tbody tr th:only-of-type {\n",
       "        vertical-align: middle;\n",
       "    }\n",
       "\n",
       "    .dataframe tbody tr th {\n",
       "        vertical-align: top;\n",
       "    }\n",
       "\n",
       "    .dataframe thead th {\n",
       "        text-align: right;\n",
       "    }\n",
       "</style>\n",
       "<table border=\"1\" class=\"dataframe\">\n",
       "  <thead>\n",
       "    <tr style=\"text-align: right;\">\n",
       "      <th></th>\n",
       "      <th>time</th>\n",
       "      <th>close</th>\n",
       "    </tr>\n",
       "  </thead>\n",
       "  <tbody>\n",
       "    <tr>\n",
       "      <th>0</th>\n",
       "      <td>2023-08-23 20:00:00</td>\n",
       "      <td>1668.00</td>\n",
       "    </tr>\n",
       "    <tr>\n",
       "      <th>1</th>\n",
       "      <td>2023-08-24 08:00:00</td>\n",
       "      <td>1660.91</td>\n",
       "    </tr>\n",
       "    <tr>\n",
       "      <th>2</th>\n",
       "      <td>2023-08-24 20:00:00</td>\n",
       "      <td>1653.90</td>\n",
       "    </tr>\n",
       "    <tr>\n",
       "      <th>3</th>\n",
       "      <td>2023-08-25 08:00:00</td>\n",
       "      <td>1654.35</td>\n",
       "    </tr>\n",
       "    <tr>\n",
       "      <th>4</th>\n",
       "      <td>2023-08-25 20:00:00</td>\n",
       "      <td>1650.00</td>\n",
       "    </tr>\n",
       "    <tr>\n",
       "      <th>...</th>\n",
       "      <td>...</td>\n",
       "      <td>...</td>\n",
       "    </tr>\n",
       "    <tr>\n",
       "      <th>483</th>\n",
       "      <td>2024-04-21 08:00:00</td>\n",
       "      <td>3144.32</td>\n",
       "    </tr>\n",
       "    <tr>\n",
       "      <th>484</th>\n",
       "      <td>2024-04-21 20:00:00</td>\n",
       "      <td>3192.87</td>\n",
       "    </tr>\n",
       "    <tr>\n",
       "      <th>485</th>\n",
       "      <td>2024-04-22 08:00:00</td>\n",
       "      <td>3198.90</td>\n",
       "    </tr>\n",
       "    <tr>\n",
       "      <th>486</th>\n",
       "      <td>2024-04-22 20:00:00</td>\n",
       "      <td>3179.25</td>\n",
       "    </tr>\n",
       "    <tr>\n",
       "      <th>487</th>\n",
       "      <td>2024-04-23 08:00:00</td>\n",
       "      <td>3220.48</td>\n",
       "    </tr>\n",
       "  </tbody>\n",
       "</table>\n",
       "<p>488 rows × 2 columns</p>\n",
       "</div>"
      ],
      "text/plain": [
       "                   time    close\n",
       "0   2023-08-23 20:00:00  1668.00\n",
       "1   2023-08-24 08:00:00  1660.91\n",
       "2   2023-08-24 20:00:00  1653.90\n",
       "3   2023-08-25 08:00:00  1654.35\n",
       "4   2023-08-25 20:00:00  1650.00\n",
       "..                  ...      ...\n",
       "483 2024-04-21 08:00:00  3144.32\n",
       "484 2024-04-21 20:00:00  3192.87\n",
       "485 2024-04-22 08:00:00  3198.90\n",
       "486 2024-04-22 20:00:00  3179.25\n",
       "487 2024-04-23 08:00:00  3220.48\n",
       "\n",
       "[488 rows x 2 columns]"
      ]
     },
     "execution_count": 14,
     "metadata": {},
     "output_type": "execute_result"
    }
   ],
   "source": [
    "test_data"
   ]
  },
  {
   "cell_type": "code",
   "execution_count": null,
   "id": "fe3fd7fc-d1fe-4e15-b6d7-e7a49bb52254",
   "metadata": {},
   "outputs": [],
   "source": []
  }
 ],
 "metadata": {
  "kernelspec": {
   "display_name": "Python 3 (ipykernel)",
   "language": "python",
   "name": "python3"
  },
  "language_info": {
   "codemirror_mode": {
    "name": "ipython",
    "version": 3
   },
   "file_extension": ".py",
   "mimetype": "text/x-python",
   "name": "python",
   "nbconvert_exporter": "python",
   "pygments_lexer": "ipython3",
   "version": "3.12.7"
  }
 },
 "nbformat": 4,
 "nbformat_minor": 5
}
