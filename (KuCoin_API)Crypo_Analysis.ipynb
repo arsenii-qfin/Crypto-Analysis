{
 "cells": [
  {
   "cell_type": "code",
   "execution_count": 2,
   "id": "0480a169-7172-4efa-9d33-eddaddd73535",
   "metadata": {},
   "outputs": [],
   "source": [
    "import requests\n",
    "import pandas as pd\n",
    "from datetime import datetime, timedelta"
   ]
  },
  {
   "cell_type": "markdown",
   "id": "d9a0db98-fe0c-46da-9fa6-8e77dac14f25",
   "metadata": {},
   "source": [
    "### KuCoin API Base URL + Parameters:\n",
    "\n",
    "#### Format: OCHL; oldest to newest\n",
    "\n",
    "https://api.kucoin.com/api/v1/market/candles \"?\"\n",
    "\n",
    "* symbol: Trading pair (e.g., BTC-USDT).\n",
    "* type: Time interval (e.g., 1min, 5min, 15min, 1hour, 12hour, 1day).\n",
    "* startAt: Start time in UNIX timestamp (seconds since epoch).\n",
    "* endAt: End time in UNIX timestamp (seconds since epoch).\n",
    "* limit: Number of candles to fetch (max 1500).\n",
    "\n",
    "https://api.kucoin.com/api/v1/market/candles?symbol=BTC-USDT&type=12hour&startAt=1717449600&endAt=1717536000&limit=1000\n",
    "\n",
    "ps. \"Klines\" refers to candlestick (OHLC) data\n",
    "ps. the ? separates the base URL from the query parameters\n",
    "ps. Use the timestamp of the day at 00:00 as the startTime and timestamp of the next day at 00:00 as the endTime to ensure the last day is complete.\n",
    "ps. use https://www.epochconverter.com/ to convert time to UNIX"
   ]
  },
  {
   "cell_type": "markdown",
   "id": "87ea6694-e349-4514-80a4-8c83a7f673de",
   "metadata": {},
   "source": [
    "### Fetching Data"
   ]
  },
  {
   "cell_type": "code",
   "execution_count": 5,
   "id": "cba59772-262e-499f-8303-a46467343d98",
   "metadata": {},
   "outputs": [],
   "source": [
    "def fetch_kucoin_data(symbol, interval, startAt, endAt):\n",
    "    base_url = \"https://api.kucoin.com/api/v1/market/candles\" # the base url and parameters \n",
    "    params = {\n",
    "        \"symbol\": symbol,\n",
    "        \"type\": interval,\n",
    "        \"startAt\": startAt,\n",
    "        \"endAt\": endAt\n",
    "    }\n",
    "    response = requests.get(base_url, params=params) # requesting the data from the API via requests library\n",
    "    data = response.json()\n",
    "    candles = data[\"data\"]\n",
    "    return pd.DataFrame({ # create a dataframe only leaving the closing prices \n",
    "        \"time\": [datetime.fromtimestamp(int(entry[0])) for entry in candles], # change UNIX time to human time.\n",
    "        \"close\": [float(entry[2]) for entry in candles] # fetch the close price which has index 2\n",
    "    }).iloc[::-1].reset_index(drop=True) #reverse the order bc in Kucoin the datapoints are oldest to newest"
   ]
  },
  {
   "cell_type": "markdown",
   "id": "e02c8a15-5f64-4fee-ac56-084844628ffb",
   "metadata": {},
   "source": [
    "### Analyzing Data"
   ]
  },
  {
   "cell_type": "code",
   "execution_count": 7,
   "id": "4b6621f4-e324-4681-b9a3-7e6d62c6be54",
   "metadata": {},
   "outputs": [],
   "source": [
    "def analyze_data(master_data, test_data):\n",
    "    up_success = 0\n",
    "    down_success = 0\n",
    "    up_total = 0\n",
    "    down_total = 0\n",
    "\n",
    "    for i in range(0, len(master_data), 2): #stop when there is no more datapoints\n",
    "        if i + 1 >= len(master_data):\n",
    "            break\n",
    "\n",
    "        t0_master_price = master_data.iloc[i]['close'] # calculate percent change \n",
    "        t1_master_price = master_data.iloc[i + 1]['close']\n",
    "        master_change = ((t1_master_price - t0_master_price) / t0_master_price) * 100\n",
    "\n",
    "        if abs(master_change) > 1: #test primary tokens t_0 against secondary's t_1\n",
    "            corresponding_day = i // 2\n",
    "            if corresponding_day + 1 >= len(test_data):\n",
    "                continue\n",
    "\n",
    "            t0_test_price = test_data.iloc[corresponding_day]['close'] # create test variables \n",
    "            t1_test_price = test_data.iloc[corresponding_day + 1]['close']\n",
    "\n",
    "            if master_change > 1: # main logic\n",
    "                up_total += 1\n",
    "                if t1_test_price > t0_test_price:\n",
    "                    up_success += 1\n",
    "            elif master_change < -1:\n",
    "                down_total += 1\n",
    "                if t1_test_price < t0_test_price:\n",
    "                    down_success += 1\n",
    "\n",
    "    up_success_rate = (up_success / up_total * 100) if up_total > 0 else 0 # count success rates\n",
    "    down_success_rate = (down_success / down_total * 100) if down_total > 0 else 0\n",
    "\n",
    "    print(\"Primary moved +1%: \" + str(up_total) + \" times\") # print the results \n",
    "    print(\"Primary moved -1%: \" + str(down_total) + \" times\")\n",
    "    print(\"Success for up movements: \" + str(up_success) + \" times\")\n",
    "    print(\"Success for down movements: \" + str(down_success) + \" times\")\n",
    "    \n",
    "    return up_success_rate, down_success_rate"
   ]
  },
  {
   "cell_type": "markdown",
   "id": "1ed37339-6800-49e4-87a4-f1d645282f35",
   "metadata": {},
   "source": [
    "### User Inputs..."
   ]
  },
  {
   "cell_type": "code",
   "execution_count": 9,
   "id": "68139339-fbed-4d6a-80bf-2e2c86811ca6",
   "metadata": {},
   "outputs": [],
   "source": [
    "master_data = fetch_kucoin_data(\"BTC-USDT\", \"12hour\", 1671824237, 1734982637) #watch out for the syntax of inputs\n",
    "test_data = fetch_kucoin_data(\"WIF-USDT\", \"12hour\", 1671824237, 1734982637)"
   ]
  },
  {
   "cell_type": "code",
   "execution_count": 10,
   "id": "54b287c0-973a-4df7-9b32-590ae780e254",
   "metadata": {},
   "outputs": [
    {
     "name": "stdout",
     "output_type": "stream",
     "text": [
      "Primary moved +1%: 155 times\n",
      "Primary moved -1%: 148 times\n",
      "Success for up movements: 69 times\n",
      "Success for down movements: 75 times\n"
     ]
    }
   ],
   "source": [
    "up_success_rate, down_success_rate = analyze_data(master_data, test_data)"
   ]
  },
  {
   "cell_type": "code",
   "execution_count": 11,
   "id": "e910962c-a8e0-4dcf-8add-912176add50e",
   "metadata": {},
   "outputs": [
    {
     "name": "stdout",
     "output_type": "stream",
     "text": [
      "Success rate for primary up and secondary up: 44.52%\n",
      "Success rate for primary down and secondary down: 50.68%\n"
     ]
    }
   ],
   "source": [
    "print(f\"Success rate for primary up and secondary up: {up_success_rate:.2f}%\")\n",
    "print(f\"Success rate for primary down and secondary down: {down_success_rate:.2f}%\")"
   ]
  },
  {
   "cell_type": "markdown",
   "id": "27718118-83f3-40d9-bbd9-c24ee057900e",
   "metadata": {},
   "source": [
    "### Human date to UNIX for the input"
   ]
  },
  {
   "cell_type": "code",
   "execution_count": 13,
   "id": "da21abc8-8a03-452a-a63e-0faf643e482e",
   "metadata": {},
   "outputs": [
    {
     "name": "stdout",
     "output_type": "stream",
     "text": [
      "The UNIX timestamp for 2023-8-10 20:00:00 is 1691712000 seconds.\n"
     ]
    }
   ],
   "source": [
    "human_start_date = \"2023-8-10 20:00:00\"\n",
    "unix_start_date = int(datetime.strptime(human_start_date, \"%Y-%m-%d %H:%M:%S\").timestamp())\n",
    "print(f\"The UNIX timestamp for {human_start_date} is {unix_start_date} seconds.\")"
   ]
  },
  {
   "cell_type": "code",
   "execution_count": 14,
   "id": "eb2e4bc6-3bd6-4a24-a7e2-c05c58dc0fae",
   "metadata": {},
   "outputs": [
    {
     "data": {
      "text/html": [
       "<div>\n",
       "<style scoped>\n",
       "    .dataframe tbody tr th:only-of-type {\n",
       "        vertical-align: middle;\n",
       "    }\n",
       "\n",
       "    .dataframe tbody tr th {\n",
       "        vertical-align: top;\n",
       "    }\n",
       "\n",
       "    .dataframe thead th {\n",
       "        text-align: right;\n",
       "    }\n",
       "</style>\n",
       "<table border=\"1\" class=\"dataframe\">\n",
       "  <thead>\n",
       "    <tr style=\"text-align: right;\">\n",
       "      <th></th>\n",
       "      <th>time</th>\n",
       "      <th>close</th>\n",
       "    </tr>\n",
       "  </thead>\n",
       "  <tbody>\n",
       "    <tr>\n",
       "      <th>0</th>\n",
       "      <td>2022-12-23 19:00:00</td>\n",
       "      <td>16826.2</td>\n",
       "    </tr>\n",
       "    <tr>\n",
       "      <th>1</th>\n",
       "      <td>2022-12-24 07:00:00</td>\n",
       "      <td>16836.1</td>\n",
       "    </tr>\n",
       "    <tr>\n",
       "      <th>2</th>\n",
       "      <td>2022-12-24 19:00:00</td>\n",
       "      <td>16822.0</td>\n",
       "    </tr>\n",
       "    <tr>\n",
       "      <th>3</th>\n",
       "      <td>2022-12-25 07:00:00</td>\n",
       "      <td>16832.8</td>\n",
       "    </tr>\n",
       "    <tr>\n",
       "      <th>4</th>\n",
       "      <td>2022-12-25 19:00:00</td>\n",
       "      <td>16860.0</td>\n",
       "    </tr>\n",
       "    <tr>\n",
       "      <th>...</th>\n",
       "      <td>...</td>\n",
       "      <td>...</td>\n",
       "    </tr>\n",
       "    <tr>\n",
       "      <th>1457</th>\n",
       "      <td>2024-12-21 07:00:00</td>\n",
       "      <td>97280.2</td>\n",
       "    </tr>\n",
       "    <tr>\n",
       "      <th>1458</th>\n",
       "      <td>2024-12-21 19:00:00</td>\n",
       "      <td>97099.4</td>\n",
       "    </tr>\n",
       "    <tr>\n",
       "      <th>1459</th>\n",
       "      <td>2024-12-22 07:00:00</td>\n",
       "      <td>95186.2</td>\n",
       "    </tr>\n",
       "    <tr>\n",
       "      <th>1460</th>\n",
       "      <td>2024-12-22 19:00:00</td>\n",
       "      <td>95936.2</td>\n",
       "    </tr>\n",
       "    <tr>\n",
       "      <th>1461</th>\n",
       "      <td>2024-12-23 07:00:00</td>\n",
       "      <td>94885.9</td>\n",
       "    </tr>\n",
       "  </tbody>\n",
       "</table>\n",
       "<p>1462 rows × 2 columns</p>\n",
       "</div>"
      ],
      "text/plain": [
       "                    time    close\n",
       "0    2022-12-23 19:00:00  16826.2\n",
       "1    2022-12-24 07:00:00  16836.1\n",
       "2    2022-12-24 19:00:00  16822.0\n",
       "3    2022-12-25 07:00:00  16832.8\n",
       "4    2022-12-25 19:00:00  16860.0\n",
       "...                  ...      ...\n",
       "1457 2024-12-21 07:00:00  97280.2\n",
       "1458 2024-12-21 19:00:00  97099.4\n",
       "1459 2024-12-22 07:00:00  95186.2\n",
       "1460 2024-12-22 19:00:00  95936.2\n",
       "1461 2024-12-23 07:00:00  94885.9\n",
       "\n",
       "[1462 rows x 2 columns]"
      ]
     },
     "execution_count": 14,
     "metadata": {},
     "output_type": "execute_result"
    }
   ],
   "source": [
    "master_data"
   ]
  },
  {
   "cell_type": "code",
   "execution_count": 15,
   "id": "960abb46-6429-423f-868a-ba820af7edf7",
   "metadata": {},
   "outputs": [
    {
     "data": {
      "text/html": [
       "<div>\n",
       "<style scoped>\n",
       "    .dataframe tbody tr th:only-of-type {\n",
       "        vertical-align: middle;\n",
       "    }\n",
       "\n",
       "    .dataframe tbody tr th {\n",
       "        vertical-align: top;\n",
       "    }\n",
       "\n",
       "    .dataframe thead th {\n",
       "        text-align: right;\n",
       "    }\n",
       "</style>\n",
       "<table border=\"1\" class=\"dataframe\">\n",
       "  <thead>\n",
       "    <tr style=\"text-align: right;\">\n",
       "      <th></th>\n",
       "      <th>time</th>\n",
       "      <th>close</th>\n",
       "    </tr>\n",
       "  </thead>\n",
       "  <tbody>\n",
       "    <tr>\n",
       "      <th>0</th>\n",
       "      <td>2024-01-18 07:00:00</td>\n",
       "      <td>0.3629</td>\n",
       "    </tr>\n",
       "    <tr>\n",
       "      <th>1</th>\n",
       "      <td>2024-01-18 19:00:00</td>\n",
       "      <td>0.3860</td>\n",
       "    </tr>\n",
       "    <tr>\n",
       "      <th>2</th>\n",
       "      <td>2024-01-19 07:00:00</td>\n",
       "      <td>0.4021</td>\n",
       "    </tr>\n",
       "    <tr>\n",
       "      <th>3</th>\n",
       "      <td>2024-01-19 19:00:00</td>\n",
       "      <td>0.3487</td>\n",
       "    </tr>\n",
       "    <tr>\n",
       "      <th>4</th>\n",
       "      <td>2024-01-20 07:00:00</td>\n",
       "      <td>0.3381</td>\n",
       "    </tr>\n",
       "    <tr>\n",
       "      <th>...</th>\n",
       "      <td>...</td>\n",
       "      <td>...</td>\n",
       "    </tr>\n",
       "    <tr>\n",
       "      <th>676</th>\n",
       "      <td>2024-12-21 07:00:00</td>\n",
       "      <td>1.8885</td>\n",
       "    </tr>\n",
       "    <tr>\n",
       "      <th>677</th>\n",
       "      <td>2024-12-21 19:00:00</td>\n",
       "      <td>1.9667</td>\n",
       "    </tr>\n",
       "    <tr>\n",
       "      <th>678</th>\n",
       "      <td>2024-12-22 07:00:00</td>\n",
       "      <td>1.9193</td>\n",
       "    </tr>\n",
       "    <tr>\n",
       "      <th>679</th>\n",
       "      <td>2024-12-22 19:00:00</td>\n",
       "      <td>1.9024</td>\n",
       "    </tr>\n",
       "    <tr>\n",
       "      <th>680</th>\n",
       "      <td>2024-12-23 07:00:00</td>\n",
       "      <td>2.0304</td>\n",
       "    </tr>\n",
       "  </tbody>\n",
       "</table>\n",
       "<p>681 rows × 2 columns</p>\n",
       "</div>"
      ],
      "text/plain": [
       "                   time   close\n",
       "0   2024-01-18 07:00:00  0.3629\n",
       "1   2024-01-18 19:00:00  0.3860\n",
       "2   2024-01-19 07:00:00  0.4021\n",
       "3   2024-01-19 19:00:00  0.3487\n",
       "4   2024-01-20 07:00:00  0.3381\n",
       "..                  ...     ...\n",
       "676 2024-12-21 07:00:00  1.8885\n",
       "677 2024-12-21 19:00:00  1.9667\n",
       "678 2024-12-22 07:00:00  1.9193\n",
       "679 2024-12-22 19:00:00  1.9024\n",
       "680 2024-12-23 07:00:00  2.0304\n",
       "\n",
       "[681 rows x 2 columns]"
      ]
     },
     "execution_count": 15,
     "metadata": {},
     "output_type": "execute_result"
    }
   ],
   "source": [
    "test_data"
   ]
  },
  {
   "cell_type": "code",
   "execution_count": null,
   "id": "3c42117e-1a32-4126-8183-ae736abfb6f2",
   "metadata": {},
   "outputs": [],
   "source": []
  }
 ],
 "metadata": {
  "kernelspec": {
   "display_name": "Python 3 (ipykernel)",
   "language": "python",
   "name": "python3"
  },
  "language_info": {
   "codemirror_mode": {
    "name": "ipython",
    "version": 3
   },
   "file_extension": ".py",
   "mimetype": "text/x-python",
   "name": "python",
   "nbconvert_exporter": "python",
   "pygments_lexer": "ipython3",
   "version": "3.12.7"
  }
 },
 "nbformat": 4,
 "nbformat_minor": 5
}
